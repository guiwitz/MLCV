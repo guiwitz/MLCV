{
 "cells": [
  {
   "cell_type": "markdown",
   "metadata": {
    "id": "AI1uO_bdYDRH"
   },
   "source": [
    "[![Open In Colab](https://colab.research.google.com/assets/colab-badge.svg)](https://colab.research.google.com/github/guiwitz/MLCV/blob/main/notebooks/03-Simple_NN.ipynb)\n",
    "# 3. Neural networks with PyTorch\n",
    "\n",
    "Neural networks can be programmed on different levels depending on how much one needs to customize either the architecture or the training pattern. When dealing with more complex NN we will use a higher-level package (Lightning, see [Chapter 8](08-Lightning.ipynb)) which will spare us some \"manual\" work. However, in order to understand all steps involved in designing a DL algorithm, we will first use basic PyTroch. In this notebook we will see howe we can *design* a NN while in [the next notebook](05-Training.ipynb) we will se how to train it."
   ]
  },
  {
   "cell_type": "code",
   "execution_count": 19,
   "metadata": {
    "colab": {
     "base_uri": "https://localhost:8080/"
    },
    "id": "aWCXSn5pOquE",
    "outputId": "5ac91b18-2672-43f3-d135-ae347bde8935",
    "tags": [
     "hide-input"
    ]
   },
   "outputs": [],
   "source": [
    "# set path containing data folder or use default for Colab (/gdrive/My Drive)\n",
    "local_folder = \"../\"\n",
    "import urllib.request\n",
    "urllib.request.urlretrieve('https://raw.githubusercontent.com/guiwitz/DLImaging/master/utils/check_colab.py', 'check_colab.py')\n",
    "from check_colab import set_datapath\n",
    "colab, datapath = set_datapath(local_folder)"
   ]
  },
  {
   "cell_type": "markdown",
   "metadata": {
    "id": "k5noZQBcOquF"
   },
   "source": [
    "## Layer from torch.nn\n",
    "\n",
    "We will see in this notebook how to create a simple neural network for image classification using the most general mechanism in PyTorch which are modules. All module-related objects and functions are contained in ```torch.nn```. As the name indicates, these modules are really *modular* in the sense that they are indpendent parts of networks that can be combined together. Mostly we will use single modules containing the multiple layers of our architecture, but we will also see examples where multiple modules are assembled.\n",
    "\n",
    "A module is essentially an assemble of multiple other modules, and many of these are provided \"pre-made\" for us also available in ```torch.nn```. For example in the simple network used here we will only use linear layers. Before we create an actual network let's see how layers work:"
   ]
  },
  {
   "cell_type": "code",
   "execution_count": 21,
   "metadata": {
    "id": "YL9Tx6P0YDRM"
   },
   "outputs": [],
   "source": [
    "import torch\n",
    "torch.manual_seed(42);\n",
    "from torch import nn"
   ]
  },
  {
   "cell_type": "markdown",
   "metadata": {
    "id": "m22IXJqLOquG"
   },
   "source": [
    "We creat now a linear layer that takes a vector of size 5 as input and ouptuts a vector of size 10:"
   ]
  },
  {
   "cell_type": "code",
   "execution_count": 21,
   "metadata": {
    "id": "rMFmaxSuOquH"
   },
   "outputs": [],
   "source": [
    "lin_layer = nn.Linear(in_features=5, out_features=10)"
   ]
  },
  {
   "cell_type": "markdown",
   "metadata": {
    "id": "qDQ4D0iuOquH"
   },
   "source": [
    "This single layer already has parameters:"
   ]
  },
  {
   "cell_type": "code",
   "execution_count": 22,
   "metadata": {
    "colab": {
     "base_uri": "https://localhost:8080/"
    },
    "id": "tEs08tFDOquI",
    "outputId": "fd94280b-776b-4549-95aa-ae7d31196d02"
   },
   "outputs": [
    {
     "data": {
      "text/plain": [
       "[Parameter containing:\n",
       " tensor([[ 0.3419,  0.3712, -0.1048,  0.4108, -0.0980],\n",
       "         [ 0.0902, -0.2177,  0.2626,  0.3942, -0.3281],\n",
       "         [ 0.3887,  0.0837,  0.3304,  0.0606,  0.2156],\n",
       "         [-0.0631,  0.3448,  0.0661, -0.2088,  0.1140],\n",
       "         [-0.2060, -0.0524, -0.1816,  0.2967, -0.3530],\n",
       "         [-0.2062, -0.1263, -0.2689,  0.0422, -0.4417],\n",
       "         [ 0.4039, -0.3799,  0.3453,  0.0744, -0.1452],\n",
       "         [ 0.2764,  0.0697,  0.3613,  0.0489, -0.1410],\n",
       "         [ 0.1202, -0.1213,  0.1882,  0.3993,  0.2585],\n",
       "         [-0.1955,  0.2582,  0.0800,  0.2271, -0.2726]], requires_grad=True),\n",
       " Parameter containing:\n",
       " tensor([-0.4427, -0.1728, -0.3430,  0.3670,  0.1288,  0.1852,  0.1414, -0.0078,\n",
       "          0.3500, -0.3178], requires_grad=True)]"
      ]
     },
     "execution_count": 22,
     "metadata": {},
     "output_type": "execute_result"
    }
   ],
   "source": [
    "list(lin_layer.parameters())"
   ]
  },
  {
   "cell_type": "markdown",
   "metadata": {
    "id": "SIIb6gLAOquI"
   },
   "source": [
    "We see that we have indeed a 5x10 matrix plus the bias term of size 10. When we later assemble multiple modules, we will see the same time of output but with many more parameters."
   ]
  },
  {
   "cell_type": "markdown",
   "metadata": {
    "id": "U-Kp9kzeYDRR"
   },
   "source": [
    "## Passing an input\n",
    "\n",
    "Our layer takes a vector as an input so let's create a tensor of size 5:"
   ]
  },
  {
   "cell_type": "code",
   "execution_count": 23,
   "metadata": {
    "id": "BrpgmCV9YDRS"
   },
   "outputs": [],
   "source": [
    "import torch"
   ]
  },
  {
   "cell_type": "code",
   "execution_count": 34,
   "metadata": {
    "colab": {
     "base_uri": "https://localhost:8080/"
    },
    "id": "WgH4jbSpYDRS",
    "outputId": "c9536d97-c1a4-4a7b-bc59-54907e21b63f"
   },
   "outputs": [
    {
     "data": {
      "text/plain": [
       "tensor([61, 23, 20, 11, 61])"
      ]
     },
     "execution_count": 34,
     "metadata": {},
     "output_type": "execute_result"
    }
   ],
   "source": [
    "mytensor = torch.randint(0,100,(5,))\n",
    "mytensor"
   ]
  },
  {
   "cell_type": "markdown",
   "metadata": {
    "id": "qXXbN8u2YDRS"
   },
   "source": [
    "No we we pass it to ```lin_layer```:"
   ]
  },
  {
   "cell_type": "code",
   "execution_count": 35,
   "metadata": {
    "colab": {
     "base_uri": "https://localhost:8080/",
     "height": 307
    },
    "id": "lSXkG3RfYDRS",
    "outputId": "32af52b6-2fc8-47a8-db17-56a1f5d775c2",
    "tags": [
     "raises-exception"
    ]
   },
   "outputs": [
    {
     "ename": "RuntimeError",
     "evalue": "expected scalar type Long but found Float",
     "output_type": "error",
     "traceback": [
      "\u001b[0;31m---------------------------------------------------------------------------\u001b[0m",
      "\u001b[0;31mRuntimeError\u001b[0m                              Traceback (most recent call last)",
      "Cell \u001b[0;32mIn[35], line 1\u001b[0m\n\u001b[0;32m----> 1\u001b[0m \u001b[43mlin_layer\u001b[49m\u001b[43m(\u001b[49m\u001b[43mmytensor\u001b[49m\u001b[43m)\u001b[49m\n",
      "File \u001b[0;32m~/mambaforge/envs/CASImaging2023/lib/python3.9/site-packages/torch/nn/modules/module.py:1194\u001b[0m, in \u001b[0;36mModule._call_impl\u001b[0;34m(self, *input, **kwargs)\u001b[0m\n\u001b[1;32m   1190\u001b[0m \u001b[38;5;66;03m# If we don't have any hooks, we want to skip the rest of the logic in\u001b[39;00m\n\u001b[1;32m   1191\u001b[0m \u001b[38;5;66;03m# this function, and just call forward.\u001b[39;00m\n\u001b[1;32m   1192\u001b[0m \u001b[38;5;28;01mif\u001b[39;00m \u001b[38;5;129;01mnot\u001b[39;00m (\u001b[38;5;28mself\u001b[39m\u001b[38;5;241m.\u001b[39m_backward_hooks \u001b[38;5;129;01mor\u001b[39;00m \u001b[38;5;28mself\u001b[39m\u001b[38;5;241m.\u001b[39m_forward_hooks \u001b[38;5;129;01mor\u001b[39;00m \u001b[38;5;28mself\u001b[39m\u001b[38;5;241m.\u001b[39m_forward_pre_hooks \u001b[38;5;129;01mor\u001b[39;00m _global_backward_hooks\n\u001b[1;32m   1193\u001b[0m         \u001b[38;5;129;01mor\u001b[39;00m _global_forward_hooks \u001b[38;5;129;01mor\u001b[39;00m _global_forward_pre_hooks):\n\u001b[0;32m-> 1194\u001b[0m     \u001b[38;5;28;01mreturn\u001b[39;00m \u001b[43mforward_call\u001b[49m\u001b[43m(\u001b[49m\u001b[38;5;241;43m*\u001b[39;49m\u001b[38;5;28;43minput\u001b[39;49m\u001b[43m,\u001b[49m\u001b[43m \u001b[49m\u001b[38;5;241;43m*\u001b[39;49m\u001b[38;5;241;43m*\u001b[39;49m\u001b[43mkwargs\u001b[49m\u001b[43m)\u001b[49m\n\u001b[1;32m   1195\u001b[0m \u001b[38;5;66;03m# Do not call functions when jit is used\u001b[39;00m\n\u001b[1;32m   1196\u001b[0m full_backward_hooks, non_full_backward_hooks \u001b[38;5;241m=\u001b[39m [], []\n",
      "File \u001b[0;32m~/mambaforge/envs/CASImaging2023/lib/python3.9/site-packages/torch/nn/modules/linear.py:114\u001b[0m, in \u001b[0;36mLinear.forward\u001b[0;34m(self, input)\u001b[0m\n\u001b[1;32m    113\u001b[0m \u001b[38;5;28;01mdef\u001b[39;00m \u001b[38;5;21mforward\u001b[39m(\u001b[38;5;28mself\u001b[39m, \u001b[38;5;28minput\u001b[39m: Tensor) \u001b[38;5;241m-\u001b[39m\u001b[38;5;241m>\u001b[39m Tensor:\n\u001b[0;32m--> 114\u001b[0m     \u001b[38;5;28;01mreturn\u001b[39;00m \u001b[43mF\u001b[49m\u001b[38;5;241;43m.\u001b[39;49m\u001b[43mlinear\u001b[49m\u001b[43m(\u001b[49m\u001b[38;5;28;43minput\u001b[39;49m\u001b[43m,\u001b[49m\u001b[43m \u001b[49m\u001b[38;5;28;43mself\u001b[39;49m\u001b[38;5;241;43m.\u001b[39;49m\u001b[43mweight\u001b[49m\u001b[43m,\u001b[49m\u001b[43m \u001b[49m\u001b[38;5;28;43mself\u001b[39;49m\u001b[38;5;241;43m.\u001b[39;49m\u001b[43mbias\u001b[49m\u001b[43m)\u001b[49m\n",
      "\u001b[0;31mRuntimeError\u001b[0m: expected scalar type Long but found Float"
     ]
    }
   ],
   "source": [
    "lin_layer(mytensor)"
   ]
  },
  {
   "cell_type": "code",
   "execution_count": 36,
   "metadata": {},
   "outputs": [
    {
     "data": {
      "text/plain": [
       "torch.int64"
      ]
     },
     "execution_count": 36,
     "metadata": {},
     "output_type": "execute_result"
    }
   ],
   "source": [
    "mytensor.dtype"
   ]
  },
  {
   "cell_type": "code",
   "execution_count": 37,
   "metadata": {},
   "outputs": [
    {
     "data": {
      "text/plain": [
       "torch.float32"
      ]
     },
     "execution_count": 37,
     "metadata": {},
     "output_type": "execute_result"
    }
   ],
   "source": [
    "lin_layer.weight.dtype"
   ]
  },
  {
   "cell_type": "markdown",
   "metadata": {
    "id": "lV6W7QoJYDRT"
   },
   "source": [
    "The error can be a bit misleading. The problem here is that the weights in the layer are defined by default as ```float32```. Hence the input should match this but we passed an 64 bits integer which creates a conflict. Let's adjust the type of our tensor. We can either modify the tensor:"
   ]
  },
  {
   "cell_type": "code",
   "execution_count": 38,
   "metadata": {
    "id": "eCYVteuRYDRT"
   },
   "outputs": [],
   "source": [
    "mytensor_float = mytensor.float()"
   ]
  },
  {
   "cell_type": "markdown",
   "metadata": {
    "id": "MlZQhZ8uOquW"
   },
   "source": [
    "Now we finally have the right object to path through our network:"
   ]
  },
  {
   "cell_type": "code",
   "execution_count": 39,
   "metadata": {
    "colab": {
     "base_uri": "https://localhost:8080/"
    },
    "id": "wwrmvWgcYDRU",
    "outputId": "e18c3b68-087a-4197-b1d5-f903e329a95d"
   },
   "outputs": [
    {
     "data": {
      "text/plain": [
       "tensor([ 25.3977, -10.0996,  45.7222,  10.4237, -35.5498, -47.1532,  14.9067,\n",
       "         17.6140,  28.8162, -18.8349], grad_fn=<AddBackward0>)"
      ]
     },
     "execution_count": 39,
     "metadata": {},
     "output_type": "execute_result"
    }
   ],
   "source": [
    "output = lin_layer(mytensor_float)\n",
    "output"
   ]
  },
  {
   "cell_type": "code",
   "execution_count": 40,
   "metadata": {
    "colab": {
     "base_uri": "https://localhost:8080/"
    },
    "id": "-6bOnr9bYDRU",
    "outputId": "f4109c43-d388-4610-b1c8-17812d1f420e"
   },
   "outputs": [
    {
     "data": {
      "text/plain": [
       "torch.Size([10])"
      ]
     },
     "execution_count": 40,
     "metadata": {},
     "output_type": "execute_result"
    }
   ],
   "source": [
    "output.shape"
   ]
  },
  {
   "cell_type": "markdown",
   "metadata": {
    "id": "lZXBQtGFOquX"
   },
   "source": [
    "We see that the ouput has as expected as size of 10! Of course we can now add as many other layers as we want:"
   ]
  },
  {
   "cell_type": "code",
   "execution_count": 41,
   "metadata": {
    "id": "IvIVibm_OquX"
   },
   "outputs": [],
   "source": [
    "lin_layer2 = nn.Linear(10,3)\n",
    "output = lin_layer2(output)"
   ]
  },
  {
   "cell_type": "code",
   "execution_count": 42,
   "metadata": {
    "colab": {
     "base_uri": "https://localhost:8080/"
    },
    "id": "vfCxymrWOquX",
    "outputId": "7b872674-8259-45fb-e8ef-aadc516128c1"
   },
   "outputs": [
    {
     "data": {
      "text/plain": [
       "torch.Size([3])"
      ]
     },
     "execution_count": 42,
     "metadata": {},
     "output_type": "execute_result"
    }
   ],
   "source": [
    "output.size()"
   ]
  },
  {
   "cell_type": "markdown",
   "metadata": {
    "id": "gwgOrxZjOquY"
   },
   "source": [
    "## Activation\n",
    "\n",
    "In addition to *layers* we will typically also need activation functions such as soft-max. Those are implemented as layer objects in ```torch.nn``` as well as functions in ```torch.functional```:"
   ]
  },
  {
   "cell_type": "code",
   "execution_count": 27,
   "metadata": {
    "id": "2-uqNcAGYDRN"
   },
   "outputs": [],
   "source": [
    "import torch.nn.functional as F"
   ]
  },
  {
   "cell_type": "markdown",
   "metadata": {
    "id": "gjZNAsaXOquY"
   },
   "source": [
    "Since we use the functional form, we can pass the output of the above linear layer directly to the activation function, here a ReLU:"
   ]
  },
  {
   "cell_type": "code",
   "execution_count": 49,
   "metadata": {
    "id": "GuIBiy7POquZ"
   },
   "outputs": [],
   "source": [
    "lin_layer_activated = F.relu(output)"
   ]
  },
  {
   "cell_type": "code",
   "execution_count": 50,
   "metadata": {
    "colab": {
     "base_uri": "https://localhost:8080/"
    },
    "id": "ZLiN8fnKOquZ",
    "outputId": "bae2c6f9-c1a1-4718-c989-2efc15af26dc"
   },
   "outputs": [
    {
     "data": {
      "text/plain": [
       "tensor([37.3864,  0.0000, 34.4119], grad_fn=<ReluBackward0>)"
      ]
     },
     "execution_count": 50,
     "metadata": {},
     "output_type": "execute_result"
    }
   ],
   "source": [
    "lin_layer_activated"
   ]
  },
  {
   "cell_type": "markdown",
   "metadata": {},
   "source": [
    "or we create a dedicated layer:"
   ]
  },
  {
   "cell_type": "code",
   "execution_count": 51,
   "metadata": {},
   "outputs": [],
   "source": [
    "relu_layer = nn.ReLU()"
   ]
  },
  {
   "cell_type": "code",
   "execution_count": 52,
   "metadata": {},
   "outputs": [
    {
     "data": {
      "text/plain": [
       "tensor([37.3864,  0.0000, 34.4119], grad_fn=<ReluBackward0>)"
      ]
     },
     "execution_count": 52,
     "metadata": {},
     "output_type": "execute_result"
    }
   ],
   "source": [
    "relu_layer(output)"
   ]
  },
  {
   "cell_type": "markdown",
   "metadata": {},
   "source": [
    "## Structure of a network\n",
    "\n",
    "There are two ways to assemble layers and activation functions into a NN architecture. In the first one, we just specify a sequence of layers and activations:"
   ]
  },
  {
   "cell_type": "code",
   "execution_count": 53,
   "metadata": {},
   "outputs": [],
   "source": [
    "model = nn.Sequential(\n",
    "    nn.Linear(5,10),\n",
    "    nn.ReLU(),\n",
    "    nn.Linear(10,3)\n",
    ")"
   ]
  },
  {
   "cell_type": "markdown",
   "metadata": {
    "id": "TzPIWGlLYDRN",
    "tags": []
   },
   "source": [
    "This is very easy to implement for simple networks but limited to use more complex architectures such as Unets where one has to \"manually\" intervene e.g. to create links between layers. In that case we can implement the model as a calls of type ```nn.Module``` in which we can define layers, and combine them how we want in a ```forward``` function:"
   ]
  },
  {
   "cell_type": "code",
   "execution_count": 54,
   "metadata": {
    "id": "-orgrI3IYDRO"
   },
   "outputs": [],
   "source": [
    "class Mynetwork(nn.Module):\n",
    "    def __init__(self, myparameter1, myparameter2):\n",
    "        super(Mynetwork, self).__init__()\n",
    "        \n",
    "        # define e.g. layers here e.g.\n",
    "        self.layer1 = nn.Linear(myparameter1, 5)\n",
    "        self.layer2 = nn.Linear(5, myparameter2)\n",
    "\n",
    "    def forward(self, x):\n",
    "        \n",
    "        # define the sequence of operations in the network including e.g. activations\n",
    "        x = F.relu(self.layer1(x))\n",
    "        x = self.layer2(x)\n",
    "        \n",
    "        return x"
   ]
  },
  {
   "cell_type": "markdown",
   "metadata": {
    "id": "ij-rK7HkYDRO"
   },
   "source": [
    "Above, we have defined a simple network that is defined by two parameters, ```myparameter1, myparameter2```, and which is composed of two linear layers and ReLU unit. The differnt layers that we need are defined in ```__init__``` as object parameters and then re-used in the network definition in the ```forward``` function. ```forward``` takes an input ```x``` (e.g. an image to classify), passes it through the network and outputs the result. Therefore in principle we could instantiate a model and use it like this:\n",
    "\n",
    "```\n",
    "mymodel = Mynetwork(9,3)\n",
    "mymodel.forward(myinput)\n",
    "```\n",
    "\n",
    "However, ```nn.Module``` has a ```__call__``` attribute that allows us to use the class as a function like this:\n",
    "\n",
    "```\n",
    "mymodel = Mynetwork(9,3)\n",
    "mymodel(myinput)\n",
    "```\n",
    "\n",
    "This is actually **how a module should be properly used** in order to exploit all capabilities offered in PyTorch.\n",
    "\n",
    "Let's now try this out. We instantiate the model:"
   ]
  },
  {
   "cell_type": "code",
   "execution_count": 55,
   "metadata": {
    "id": "4nhXAob2YDRO"
   },
   "outputs": [],
   "source": [
    "mymodel = Mynetwork(9,3)"
   ]
  },
  {
   "cell_type": "markdown",
   "metadata": {
    "id": "tBL1nCf6YDRP"
   },
   "source": [
    "Just like for the single linear layer before, we can have a look at all parameters:"
   ]
  },
  {
   "cell_type": "code",
   "execution_count": 56,
   "metadata": {
    "colab": {
     "base_uri": "https://localhost:8080/"
    },
    "id": "HXGXjCKdYDRP",
    "outputId": "48b8e550-c441-4b9e-8a86-c88f14ec4dd3"
   },
   "outputs": [
    {
     "data": {
      "text/plain": [
       "[Parameter containing:\n",
       " tensor([[ 0.1865, -0.2321,  0.1675,  0.1513,  0.2381, -0.2557,  0.2397, -0.1576,\n",
       "           0.1237],\n",
       "         [ 0.3130, -0.0470, -0.0026, -0.0767, -0.2783,  0.1600, -0.3309,  0.2069,\n",
       "           0.2494],\n",
       "         [ 0.3152, -0.0786, -0.2739,  0.0749,  0.1841, -0.3318, -0.0757, -0.1998,\n",
       "          -0.0292],\n",
       "         [-0.1641, -0.1363, -0.1058, -0.3168,  0.2735,  0.2794, -0.0523, -0.0380,\n",
       "          -0.1360],\n",
       "         [-0.3010, -0.3244,  0.1239, -0.1830, -0.2143, -0.0260, -0.1110, -0.1078,\n",
       "           0.0107]], requires_grad=True),\n",
       " Parameter containing:\n",
       " tensor([-0.0707, -0.1148, -0.1596, -0.2713,  0.2795], requires_grad=True),\n",
       " Parameter containing:\n",
       " tensor([[-0.1790,  0.1185, -0.1552,  0.0363,  0.4169],\n",
       "         [ 0.2060, -0.3876,  0.1775,  0.4245,  0.1177],\n",
       "         [ 0.2998,  0.4409, -0.0685,  0.0928, -0.3108]], requires_grad=True),\n",
       " Parameter containing:\n",
       " tensor([-0.0922,  0.3312,  0.2293], requires_grad=True)]"
      ]
     },
     "execution_count": 56,
     "metadata": {},
     "output_type": "execute_result"
    }
   ],
   "source": [
    "list(mymodel.parameters())"
   ]
  },
  {
   "cell_type": "markdown",
   "metadata": {
    "id": "Vht79uk8YDRQ"
   },
   "source": [
    "The output is the same, only now we see all parameters from all layers, not just a single one. We can also look at the modules contained in our network:"
   ]
  },
  {
   "cell_type": "code",
   "execution_count": 57,
   "metadata": {
    "colab": {
     "base_uri": "https://localhost:8080/"
    },
    "id": "sYxhkXAhOque",
    "outputId": "fc26bb8e-6a74-457d-cdb1-1d7f04f43108"
   },
   "outputs": [
    {
     "data": {
      "text/plain": [
       "[Mynetwork(\n",
       "   (layer1): Linear(in_features=9, out_features=5, bias=True)\n",
       "   (layer2): Linear(in_features=5, out_features=3, bias=True)\n",
       " ),\n",
       " Linear(in_features=9, out_features=5, bias=True),\n",
       " Linear(in_features=5, out_features=3, bias=True)]"
      ]
     },
     "execution_count": 57,
     "metadata": {},
     "output_type": "execute_result"
    }
   ],
   "source": [
    "list(mymodel.modules())"
   ]
  },
  {
   "cell_type": "markdown",
   "metadata": {
    "id": "j8NsX6vnOque"
   },
   "source": [
    "We see some repeats because we see here modules at all levels. E.g. each linear layer is a module but our entire network is a module as well.\n",
    "\n",
    "We can also just find all modules contained in our main module and recover its name and function:"
   ]
  },
  {
   "cell_type": "code",
   "execution_count": 58,
   "metadata": {
    "colab": {
     "base_uri": "https://localhost:8080/"
    },
    "id": "kp8wjdEPYDRQ",
    "outputId": "42b17056-73c6-4041-eda6-5fafdf4bdf87"
   },
   "outputs": [
    {
     "name": "stdout",
     "output_type": "stream",
     "text": [
      "name: layer1 module: Linear(in_features=9, out_features=5, bias=True)\n",
      "name: layer2 module: Linear(in_features=5, out_features=3, bias=True)\n"
     ]
    }
   ],
   "source": [
    "for name, module in mymodel.named_children():\n",
    "    print(f'name: {name} module: {module}')"
   ]
  },
  {
   "cell_type": "markdown",
   "metadata": {
    "id": "Lmhrocc9YDRR"
   },
   "source": [
    "We can also obtain a dictionary of all layers with their weights:"
   ]
  },
  {
   "cell_type": "code",
   "execution_count": 59,
   "metadata": {
    "colab": {
     "base_uri": "https://localhost:8080/"
    },
    "id": "1MrDaJ4hYDRR",
    "outputId": "7f0c55d1-4438-4a25-9717-b15987c1f987"
   },
   "outputs": [
    {
     "data": {
      "text/plain": [
       "OrderedDict([('layer1.weight',\n",
       "              tensor([[ 0.1865, -0.2321,  0.1675,  0.1513,  0.2381, -0.2557,  0.2397, -0.1576,\n",
       "                        0.1237],\n",
       "                      [ 0.3130, -0.0470, -0.0026, -0.0767, -0.2783,  0.1600, -0.3309,  0.2069,\n",
       "                        0.2494],\n",
       "                      [ 0.3152, -0.0786, -0.2739,  0.0749,  0.1841, -0.3318, -0.0757, -0.1998,\n",
       "                       -0.0292],\n",
       "                      [-0.1641, -0.1363, -0.1058, -0.3168,  0.2735,  0.2794, -0.0523, -0.0380,\n",
       "                       -0.1360],\n",
       "                      [-0.3010, -0.3244,  0.1239, -0.1830, -0.2143, -0.0260, -0.1110, -0.1078,\n",
       "                        0.0107]])),\n",
       "             ('layer1.bias',\n",
       "              tensor([-0.0707, -0.1148, -0.1596, -0.2713,  0.2795])),\n",
       "             ('layer2.weight',\n",
       "              tensor([[-0.1790,  0.1185, -0.1552,  0.0363,  0.4169],\n",
       "                      [ 0.2060, -0.3876,  0.1775,  0.4245,  0.1177],\n",
       "                      [ 0.2998,  0.4409, -0.0685,  0.0928, -0.3108]])),\n",
       "             ('layer2.bias', tensor([-0.0922,  0.3312,  0.2293]))])"
      ]
     },
     "execution_count": 59,
     "metadata": {},
     "output_type": "execute_result"
    }
   ],
   "source": [
    "mymodel.state_dict()"
   ]
  },
  {
   "cell_type": "markdown",
   "metadata": {
    "id": "HAstg9EYOquf"
   },
   "source": [
    "Finally we can pass an input through our network. It takes an input of size 9:"
   ]
  },
  {
   "cell_type": "code",
   "execution_count": 60,
   "metadata": {
    "id": "BS7ZO74mOqug"
   },
   "outputs": [],
   "source": [
    "my_input = torch.randn((9,))"
   ]
  },
  {
   "cell_type": "code",
   "execution_count": 61,
   "metadata": {
    "id": "NGVVZnV8Oqug"
   },
   "outputs": [],
   "source": [
    "output = mymodel(my_input)"
   ]
  },
  {
   "cell_type": "code",
   "execution_count": 62,
   "metadata": {
    "colab": {
     "base_uri": "https://localhost:8080/"
    },
    "id": "0zE-tQpzOqug",
    "outputId": "0614a5d0-06b9-4c35-ad72-f0a0aecc9fa0"
   },
   "outputs": [
    {
     "data": {
      "text/plain": [
       "tensor([-0.0596,  0.7805,  0.3574], grad_fn=<AddBackward0>)"
      ]
     },
     "execution_count": 62,
     "metadata": {},
     "output_type": "execute_result"
    }
   ],
   "source": [
    "output"
   ]
  },
  {
   "cell_type": "markdown",
   "metadata": {
    "id": "xKI4bj_YYDRU"
   },
   "source": [
    "## Batches\n",
    "\n",
    "If we want to use batch processing, we can also pass batches of vectors through the network instead of single vectors. PyTroch layers are designed to handle this by default, so here for example if we want to use a batch of size 32 we can just use a 32 x 8 tensor. We create one directly with ```torch.randn``` here (we will learn more about batches in the chapter on training):"
   ]
  },
  {
   "cell_type": "code",
   "execution_count": 63,
   "metadata": {
    "colab": {
     "base_uri": "https://localhost:8080/"
    },
    "id": "b2FsgyCfYDRV",
    "outputId": "5458c8b3-b51c-4e72-8ed5-d5e3ab689294"
   },
   "outputs": [
    {
     "data": {
      "text/plain": [
       "torch.Size([32, 9])"
      ]
     },
     "execution_count": 63,
     "metadata": {},
     "output_type": "execute_result"
    }
   ],
   "source": [
    "batch_tensor = torch.randn(32,9)\n",
    "batch_tensor.shape"
   ]
  },
  {
   "cell_type": "code",
   "execution_count": 64,
   "metadata": {
    "id": "bYAmmXLwYDRV"
   },
   "outputs": [],
   "source": [
    "batch_output = mymodel(batch_tensor)"
   ]
  },
  {
   "cell_type": "code",
   "execution_count": 65,
   "metadata": {
    "colab": {
     "base_uri": "https://localhost:8080/"
    },
    "id": "UP48jBj2YDRV",
    "outputId": "e4ef09dc-4cfe-401f-85d8-851c6a89307b"
   },
   "outputs": [
    {
     "data": {
      "text/plain": [
       "torch.Size([32, 3])"
      ]
     },
     "execution_count": 65,
     "metadata": {},
     "output_type": "execute_result"
    }
   ],
   "source": [
    "batch_output.shape"
   ]
  },
  {
   "cell_type": "markdown",
   "metadata": {
    "id": "VuIOlAVSOquj"
   },
   "source": [
    "We see that the output is \"batched\" as well, so the network gracefully handlend this batch for us."
   ]
  },
  {
   "cell_type": "markdown",
   "metadata": {
    "id": "Dm35UQ76YDRV"
   },
   "source": [
    "## Passing an image as input\n",
    "\n",
    "One complexity when dealing with images, is making sure that the input/output dimensions (and we'll see later, dimensions inside the network) are appropriate. For example at the moment our network has a linear layer as input, so we would need to make sure our image is \"linear\".\n",
    "\n",
    "Let's consider an image from the MNIST dataset (images of handwritten numbers):"
   ]
  },
  {
   "cell_type": "code",
   "execution_count": 2,
   "metadata": {},
   "outputs": [],
   "source": [
    "import imageio.v3 as iio\n",
    "import matplotlib.pyplot as plt"
   ]
  },
  {
   "cell_type": "code",
   "execution_count": 78,
   "metadata": {},
   "outputs": [],
   "source": [
    "image = iio.imread('https://datasets-server.huggingface.co/assets/mnist/--/mnist/train/0/image/image.jpg')\n",
    "image = torch.from_numpy(image)\n",
    "image = image.float()"
   ]
  },
  {
   "cell_type": "code",
   "execution_count": 79,
   "metadata": {},
   "outputs": [
    {
     "data": {
      "image/png": "[encoded data removed]",
      "text/plain": [
       "<Figure size 640x480 with 1 Axes>"
      ]
     },
     "metadata": {},
     "output_type": "display_data"
    }
   ],
   "source": [
    "plt.imshow(image);"
   ]
  },
  {
   "cell_type": "markdown",
   "metadata": {},
   "source": [
    "If we want to pass this image as input to a linear layer, we need to somehow concatenate all rows together. Obviously by doing that we loose interesting features in the image, and we'll see later how we can keep those using convolution later (note that this linearization is always present in the last layer of a classifier).\n",
    "\n",
    "To linearize this image, we can use the ```flatten``` function:"
   ]
  },
  {
   "cell_type": "code",
   "execution_count": 81,
   "metadata": {},
   "outputs": [
    {
     "data": {
      "text/plain": [
       "torch.Size([784])"
      ]
     },
     "execution_count": 81,
     "metadata": {},
     "output_type": "execute_result"
    }
   ],
   "source": [
    "image_flat = image.flatten()\n",
    "image_flat.shape"
   ]
  },
  {
   "cell_type": "markdown",
   "metadata": {
    "id": "WJM4i32xOqul"
   },
   "source": [
    "Alternatively we can use the ```view``` method and instead of specifying axes, just use -1:"
   ]
  },
  {
   "cell_type": "code",
   "execution_count": 83,
   "metadata": {
    "colab": {
     "base_uri": "https://localhost:8080/"
    },
    "id": "tK7em6_XYDRW",
    "outputId": "253d5205-7c6c-42a7-c6ba-2835d0051f93"
   },
   "outputs": [
    {
     "data": {
      "text/plain": [
       "torch.Size([784])"
      ]
     },
     "execution_count": 83,
     "metadata": {},
     "output_type": "execute_result"
    }
   ],
   "source": [
    "image_flat = image.view(-1)\n",
    "image_flat.shape"
   ]
  },
  {
   "cell_type": "markdown",
   "metadata": {
    "id": "ugGq_DqGYDRW"
   },
   "source": [
    "To pass these $28*28 = 784$ values to our network we of course need to adjust the input size:"
   ]
  },
  {
   "cell_type": "code",
   "execution_count": 85,
   "metadata": {
    "id": "YKDedfAmYDRW"
   },
   "outputs": [],
   "source": [
    "mymodel = Mynetwork(784,20)"
   ]
  },
  {
   "cell_type": "code",
   "execution_count": 86,
   "metadata": {
    "id": "2nHvFUbUYDRW"
   },
   "outputs": [],
   "source": [
    "output = mymodel(image_flat)"
   ]
  },
  {
   "cell_type": "code",
   "execution_count": 87,
   "metadata": {
    "colab": {
     "base_uri": "https://localhost:8080/"
    },
    "id": "B4I8aSoSYDRX",
    "outputId": "cc9327b3-0084-4ca7-a555-b96e9e710084"
   },
   "outputs": [
    {
     "data": {
      "text/plain": [
       "tensor([-23.5123,  22.6542, -28.8260,  20.3478, -13.7348,  29.9258,   4.7831,\n",
       "        -30.3402,  27.6189, -17.3178, -27.2706, -15.8357, -44.8007,  26.7763,\n",
       "          6.5294, -10.0950,  39.2811,  17.6796,  37.0028, -12.5746],\n",
       "       grad_fn=<AddBackward0>)"
      ]
     },
     "execution_count": 87,
     "metadata": {},
     "output_type": "execute_result"
    }
   ],
   "source": [
    "output"
   ]
  },
  {
   "cell_type": "markdown",
   "metadata": {
    "id": "TjTKDBKJYDRX"
   },
   "source": [
    "The operation of \"flattening\" can be done at different places. For example, instead of flattening the input, we can also flatten within our network definition:"
   ]
  },
  {
   "cell_type": "code",
   "execution_count": 88,
   "metadata": {
    "id": "Xg_6FfmmYDRX"
   },
   "outputs": [],
   "source": [
    "class Mynetwork2(nn.Module):\n",
    "    def __init__(self, myparameter1, myparameter2):\n",
    "        super(Mynetwork2, self).__init__()\n",
    "        \n",
    "        # define e.g. layers here e.g.\n",
    "        self.layer1 = nn.Linear(myparameter1, myparameter2)\n",
    "\n",
    "    def forward(self, x):\n",
    "        \n",
    "        x = x.view(-1)\n",
    "        # define the sequence of operations in the network including e.g. activations\n",
    "        x = F.relu(self.layer1(x))\n",
    "        \n",
    "        return x"
   ]
  },
  {
   "cell_type": "code",
   "execution_count": 89,
   "metadata": {
    "id": "FVwBTjLfYDRX"
   },
   "outputs": [],
   "source": [
    "second_model = Mynetwork2(784, 20)"
   ]
  },
  {
   "cell_type": "code",
   "execution_count": 91,
   "metadata": {
    "colab": {
     "base_uri": "https://localhost:8080/"
    },
    "id": "1de0QvgnYDRY",
    "outputId": "5d3122c7-5c38-4555-a4cc-31fb6a502146"
   },
   "outputs": [
    {
     "data": {
      "text/plain": [
       "tensor([ 32.3195,  22.5286,  64.9188,   0.0000,   0.0000,  72.3183,  19.4446,\n",
       "          0.0000,   4.9189,   0.0000,  11.2640, 101.6435,  22.4040,   0.0000,\n",
       "         45.0949,  25.2079,   0.0000,   0.0000,   3.9653,   0.0000],\n",
       "       grad_fn=<ReluBackward0>)"
      ]
     },
     "execution_count": 91,
     "metadata": {},
     "output_type": "execute_result"
    }
   ],
   "source": [
    "output = second_model(image)\n",
    "output"
   ]
  },
  {
   "cell_type": "code",
   "execution_count": 92,
   "metadata": {
    "colab": {
     "base_uri": "https://localhost:8080/"
    },
    "id": "LB7DUByhYDRY",
    "outputId": "f075bcb8-701f-4955-9b47-ab128224ad95"
   },
   "outputs": [
    {
     "data": {
      "text/plain": [
       "torch.Size([20])"
      ]
     },
     "execution_count": 92,
     "metadata": {},
     "output_type": "execute_result"
    }
   ],
   "source": [
    "output.shape"
   ]
  },
  {
   "cell_type": "markdown",
   "metadata": {},
   "source": [
    "### Image batches\n",
    "\n",
    "We have to be a bit careful when operating with image batches. Let's start with manually importing two images:"
   ]
  },
  {
   "cell_type": "code",
   "execution_count": 6,
   "metadata": {},
   "outputs": [],
   "source": [
    "image1 = iio.imread('https://datasets-server.huggingface.co/assets/mnist/--/mnist/train/0/image/image.jpg')\n",
    "image2 = iio.imread('https://datasets-server.huggingface.co/assets/mnist/--/mnist/train/1/image/image.jpg')\n",
    "image1 = torch.from_numpy(image1)\n",
    "image1 = image1.float()\n",
    "image2 = torch.from_numpy(image2)\n",
    "image2 = image2.float()"
   ]
  },
  {
   "cell_type": "code",
   "execution_count": 8,
   "metadata": {},
   "outputs": [
    {
     "data": {
      "image/png": "[encoded data removed]",
      "text/plain": [
       "<Figure size 640x480 with 2 Axes>"
      ]
     },
     "metadata": {},
     "output_type": "display_data"
    }
   ],
   "source": [
    "fig, ax = plt.subplots(1,2)\n",
    "ax[0].imshow(image1)\n",
    "ax[1].imshow(image2);"
   ]
  },
  {
   "cell_type": "markdown",
   "metadata": {},
   "source": [
    "Now we can assemble these two images into a stack:"
   ]
  },
  {
   "cell_type": "code",
   "execution_count": 10,
   "metadata": {},
   "outputs": [],
   "source": [
    "image_batch = torch.stack([image1, image2], axis=0)"
   ]
  },
  {
   "cell_type": "code",
   "execution_count": 11,
   "metadata": {},
   "outputs": [
    {
     "data": {
      "text/plain": [
       "torch.Size([2, 28, 28])"
      ]
     },
     "execution_count": 11,
     "metadata": {},
     "output_type": "execute_result"
    }
   ],
   "source": [
    "image_batch.shape"
   ]
  },
  {
   "cell_type": "markdown",
   "metadata": {},
   "source": [
    "We see from the dimensions that we indeed have now a batch of two images. The problem is that this will be interpreted by PyTorch as an image with multiple channels (like an RGB image) and not as a batch because the expected dimensions are ```Batch-Channel-PixelsX-PixelsY```. So we have to add an \"empty\" dimension between the batch dimension and the pixel dimensions using the ```unsqueeze``` function:"
   ]
  },
  {
   "cell_type": "code",
   "execution_count": 12,
   "metadata": {},
   "outputs": [],
   "source": [
    "image_batch = torch.unsqueeze(image_batch, dim=1)"
   ]
  },
  {
   "cell_type": "code",
   "execution_count": 13,
   "metadata": {},
   "outputs": [
    {
     "data": {
      "text/plain": [
       "torch.Size([2, 1, 28, 28])"
      ]
     },
     "execution_count": 13,
     "metadata": {},
     "output_type": "execute_result"
    }
   ],
   "source": [
    "image_batch.shape"
   ]
  },
  {
   "cell_type": "markdown",
   "metadata": {},
   "source": [
    "Also now that we have a batch, the \"unwrapping\" of the image in a linear shape cannot be done simply using ```view(-1)``` or ```flatten```:"
   ]
  },
  {
   "cell_type": "code",
   "execution_count": 16,
   "metadata": {},
   "outputs": [
    {
     "data": {
      "text/plain": [
       "torch.Size([1568])"
      ]
     },
     "execution_count": 16,
     "metadata": {},
     "output_type": "execute_result"
    }
   ],
   "source": [
    "image_batch.flatten().shape"
   ]
  },
  {
   "cell_type": "markdown",
   "metadata": {},
   "source": [
    "As you can see above this concatenates all images in the batch into one large image. We have to specify that we want to leave the batch dimension *untouched*:"
   ]
  },
  {
   "cell_type": "code",
   "execution_count": 18,
   "metadata": {},
   "outputs": [
    {
     "data": {
      "text/plain": [
       "torch.Size([2, 784])"
      ]
     },
     "execution_count": 18,
     "metadata": {},
     "output_type": "execute_result"
    }
   ],
   "source": [
    "image_batch.flatten(start_dim=1).shape"
   ]
  },
  {
   "cell_type": "markdown",
   "metadata": {},
   "source": [
    "Now we have a batch of two linearized images! If we update our model, we have now:"
   ]
  },
  {
   "cell_type": "code",
   "execution_count": 28,
   "metadata": {},
   "outputs": [],
   "source": [
    "class Mynetwork3(nn.Module):\n",
    "    def __init__(self, myparameter1, myparameter2):\n",
    "        super(Mynetwork3, self).__init__()\n",
    "        \n",
    "        # define e.g. layers here e.g.\n",
    "        self.layer1 = nn.Linear(myparameter1, myparameter2)\n",
    "\n",
    "    def forward(self, x):\n",
    "        \n",
    "        x = x.flatten(start_dim=1)\n",
    "        # define the sequence of operations in the network including e.g. activations\n",
    "        x = F.relu(self.layer1(x))\n",
    "        \n",
    "        return x"
   ]
  },
  {
   "cell_type": "markdown",
   "metadata": {},
   "source": [
    "Now we can instantiate the model and pass our \"fake\" batch through it: "
   ]
  },
  {
   "cell_type": "code",
   "execution_count": 30,
   "metadata": {},
   "outputs": [],
   "source": [
    "model_batch = Mynetwork3(784, 3)\n",
    "out = model_batch(image_batch)\n",
    "    "
   ]
  },
  {
   "cell_type": "code",
   "execution_count": 31,
   "metadata": {},
   "outputs": [
    {
     "data": {
      "text/plain": [
       "torch.Size([2, 3])"
      ]
     },
     "execution_count": 31,
     "metadata": {},
     "output_type": "execute_result"
    }
   ],
   "source": [
    "out.shape"
   ]
  },
  {
   "cell_type": "markdown",
   "metadata": {},
   "source": [
    "Our output is indeed composed of a batch of 2, each element having 3 outputs."
   ]
  },
  {
   "cell_type": "markdown",
   "metadata": {
    "id": "87EQqckMYDRY"
   },
   "source": [
    "## Saving and loading a model\n",
    "\n",
    "Our next goal will be to train our network (see next chapter). At some point during or after training we will want to save both our model and its weights. This can be done in two ways.\n",
    "\n",
    "### Save full model\n",
    "\n",
    "First, we can save the entire model so that it can be simply reloaded. This is practical when developing but can lead to problems when moving saved models between computers. First we save our model (create a ````models```` folder in your directory if needed):"
   ]
  },
  {
   "cell_type": "code",
   "execution_count": 47,
   "metadata": {
    "id": "OYkt0Fw0YDRY"
   },
   "outputs": [],
   "source": [
    "torch.save(second_model, datapath.joinpath('models/simpleNN.pt'))"
   ]
  },
  {
   "cell_type": "markdown",
   "metadata": {
    "id": "oVR_snhCYDRZ"
   },
   "source": [
    "And reload it:"
   ]
  },
  {
   "cell_type": "code",
   "execution_count": 48,
   "metadata": {
    "id": "e4sjsS7KYDRZ"
   },
   "outputs": [],
   "source": [
    "third_model = torch.load(datapath.joinpath('models/simpleNN.pt'))"
   ]
  },
  {
   "cell_type": "code",
   "execution_count": 49,
   "metadata": {
    "colab": {
     "base_uri": "https://localhost:8080/"
    },
    "id": "B5BcgpK9YDRZ",
    "outputId": "10bf12ae-5dd9-43c8-e0d4-a95c9ee21b68"
   },
   "outputs": [
    {
     "data": {
      "text/plain": [
       "tensor([2.9879, 2.2543, 0.6235, 0.0000, 0.0000, 2.0040, 9.6056, 8.4799, 0.0000,\n",
       "        0.0000, 1.5722, 0.0000, 0.0000, 0.0000, 0.0000, 0.0000, 0.0000, 5.2356,\n",
       "        0.0000, 0.0000], grad_fn=<ReluBackward0>)"
      ]
     },
     "execution_count": 49,
     "metadata": {},
     "output_type": "execute_result"
    }
   ],
   "source": [
    "third_model(image)"
   ]
  },
  {
   "cell_type": "markdown",
   "metadata": {
    "id": "hlCrSWAFYDRZ"
   },
   "source": [
    "And we see that we obtain the same values as above, meaning that the parameters were indeed saved.\n",
    "\n",
    "### Saving the model state\n",
    "\n",
    "Alternatively we can simply save all the parameters, which is a safer method. We simply recover them using ```state_dict```:"
   ]
  },
  {
   "cell_type": "code",
   "execution_count": 50,
   "metadata": {
    "id": "OoBQM5drYDRZ"
   },
   "outputs": [],
   "source": [
    "torch.save(third_model.state_dict(),datapath.joinpath('models/simpleNN_state.pt'))"
   ]
  },
  {
   "cell_type": "markdown",
   "metadata": {
    "id": "WORns8K-YDRZ"
   },
   "source": [
    "To reload the parameters we of course now have to first instantiate the model and \"fill\" it with those values using ```load_state_dict```:"
   ]
  },
  {
   "cell_type": "code",
   "execution_count": 51,
   "metadata": {
    "id": "wGZ_UAqhYDRZ"
   },
   "outputs": [],
   "source": [
    "fourth_model = Mynetwork2(784, 20)"
   ]
  },
  {
   "cell_type": "code",
   "execution_count": 52,
   "metadata": {
    "colab": {
     "base_uri": "https://localhost:8080/"
    },
    "id": "WxQoeTofYDRa",
    "outputId": "0738c446-3054-4660-878e-9d83f4a25e24"
   },
   "outputs": [
    {
     "data": {
      "text/plain": [
       "OrderedDict([('layer1.weight',\n",
       "              tensor([[-0.0037,  0.0130,  0.0145,  ...,  0.0164, -0.0147,  0.0120],\n",
       "                      [ 0.0044,  0.0146, -0.0086,  ..., -0.0005,  0.0144, -0.0196],\n",
       "                      [ 0.0279, -0.0238, -0.0311,  ..., -0.0305,  0.0024,  0.0009],\n",
       "                      ...,\n",
       "                      [ 0.0090, -0.0278, -0.0105,  ...,  0.0123,  0.0218,  0.0213],\n",
       "                      [ 0.0242,  0.0156,  0.0108,  ...,  0.0154, -0.0153,  0.0217],\n",
       "                      [-0.0239,  0.0014,  0.0069,  ..., -0.0070, -0.0050, -0.0247]])),\n",
       "             ('layer1.bias',\n",
       "              tensor([-0.0300,  0.0135,  0.0126, -0.0301,  0.0079, -0.0219,  0.0166, -0.0311,\n",
       "                      -0.0126,  0.0305, -0.0181, -0.0226,  0.0038, -0.0043, -0.0073,  0.0127,\n",
       "                       0.0165,  0.0203, -0.0097,  0.0190]))])"
      ]
     },
     "execution_count": 52,
     "metadata": {},
     "output_type": "execute_result"
    }
   ],
   "source": [
    "params = torch.load(datapath.joinpath('models/simpleNN_state.pt'))\n",
    "params"
   ]
  },
  {
   "cell_type": "code",
   "execution_count": 53,
   "metadata": {
    "colab": {
     "base_uri": "https://localhost:8080/"
    },
    "id": "OEBX9c-nYDRa",
    "outputId": "3d02cff2-bde0-4b77-c11a-d0ef24155f74"
   },
   "outputs": [
    {
     "data": {
      "text/plain": [
       "<All keys matched successfully>"
      ]
     },
     "execution_count": 53,
     "metadata": {},
     "output_type": "execute_result"
    }
   ],
   "source": [
    "fourth_model.load_state_dict(params)"
   ]
  },
  {
   "cell_type": "code",
   "execution_count": 54,
   "metadata": {
    "colab": {
     "base_uri": "https://localhost:8080/"
    },
    "id": "z9oYFeQhYDRa",
    "outputId": "c1b147dd-558d-4666-d27a-752c46fff353"
   },
   "outputs": [
    {
     "data": {
      "text/plain": [
       "tensor([2.9879, 2.2543, 0.6235, 0.0000, 0.0000, 2.0040, 9.6056, 8.4799, 0.0000,\n",
       "        0.0000, 1.5722, 0.0000, 0.0000, 0.0000, 0.0000, 0.0000, 0.0000, 5.2356,\n",
       "        0.0000, 0.0000], grad_fn=<ReluBackward0>)"
      ]
     },
     "execution_count": 54,
     "metadata": {},
     "output_type": "execute_result"
    }
   ],
   "source": [
    "fourth_model(image)"
   ]
  },
  {
   "cell_type": "markdown",
   "metadata": {
    "id": "4x3iMsO-YDRa"
   },
   "source": [
    "## Running on a GPU (run on Colab)\n",
    "\n",
    "If you want to exploit the computational power of a GPU you have to take care of moving **both** the model and the data to it. First, find out if you have a GPU. You can test this for example by running this notebook on Colab:"
   ]
  },
  {
   "cell_type": "code",
   "execution_count": 58,
   "metadata": {
    "colab": {
     "base_uri": "https://localhost:8080/"
    },
    "id": "GmDZf0pBYDRa",
    "outputId": "9a7c301a-9dd7-4aa4-fb4e-b8d349b10e5b"
   },
   "outputs": [
    {
     "data": {
      "text/plain": [
       "True"
      ]
     },
     "execution_count": 58,
     "metadata": {},
     "output_type": "execute_result"
    }
   ],
   "source": [
    "torch.cuda.is_available()"
   ]
  },
  {
   "cell_type": "markdown",
   "metadata": {
    "id": "rxxUBfwOYDRb"
   },
   "source": [
    "If you have a GPU, you can define it as a device. If not you can fall back on CPU:"
   ]
  },
  {
   "cell_type": "code",
   "execution_count": 59,
   "metadata": {
    "id": "A-L5ErcoYDRb"
   },
   "outputs": [],
   "source": [
    "if torch.cuda.is_available():\n",
    "    dev = torch.device(\"cuda\")\n",
    "else:\n",
    "    dev = torch.device(\"cpu\")"
   ]
  },
  {
   "cell_type": "markdown",
   "metadata": {
    "id": "s_arWP1_YDRb"
   },
   "source": [
    "Now finally if you want to use it with a model you need to move the model to it. Let's check where it currently sits:"
   ]
  },
  {
   "cell_type": "code",
   "execution_count": 60,
   "metadata": {
    "colab": {
     "base_uri": "https://localhost:8080/"
    },
    "id": "V0wwfn2lY2am",
    "outputId": "f28d0b50-b1f0-4e25-a745-55039fd14105"
   },
   "outputs": [
    {
     "data": {
      "text/plain": [
       "Mynetwork2(\n",
       "  (layer1): Linear(in_features=1024, out_features=20, bias=True)\n",
       ")"
      ]
     },
     "execution_count": 60,
     "metadata": {},
     "output_type": "execute_result"
    }
   ],
   "source": [
    "second_model.to(dev)"
   ]
  },
  {
   "cell_type": "code",
   "execution_count": 61,
   "metadata": {
    "colab": {
     "base_uri": "https://localhost:8080/"
    },
    "id": "vA7pOTxXawjR",
    "outputId": "b8e2e6f9-5b4e-4071-b8ae-451535e62c68"
   },
   "outputs": [
    {
     "data": {
      "text/plain": [
       "[Parameter containing:\n",
       " tensor([[-6.5818e-03, -1.3050e-05, -2.1981e-02,  ...,  2.0436e-02,\n",
       "          -1.8892e-03, -2.1725e-02],\n",
       "         [ 2.0734e-02, -1.9473e-02, -2.8260e-02,  ...,  2.5199e-02,\n",
       "          -2.9951e-02,  8.9792e-03],\n",
       "         [-1.3109e-03,  1.3450e-02,  1.9928e-02,  ..., -5.7713e-03,\n",
       "           1.0590e-02, -1.9134e-02],\n",
       "         ...,\n",
       "         [ 1.6805e-02,  2.3167e-02,  3.1948e-03,  ..., -1.5454e-02,\n",
       "           1.3553e-02, -1.7430e-02],\n",
       "         [-2.3587e-02, -1.8857e-02,  9.4816e-03,  ...,  2.1235e-02,\n",
       "          -2.0854e-02, -2.8723e-02],\n",
       "         [ 2.1510e-03, -4.4486e-03, -1.7398e-02,  ..., -1.2099e-02,\n",
       "           1.0446e-02,  2.7855e-03]], device='cuda:0', requires_grad=True),\n",
       " Parameter containing:\n",
       " tensor([ 0.0084,  0.0012,  0.0020,  0.0185,  0.0250, -0.0038,  0.0236, -0.0299,\n",
       "          0.0036,  0.0277, -0.0210, -0.0126, -0.0142, -0.0256, -0.0099,  0.0236,\n",
       "          0.0120, -0.0239,  0.0216, -0.0094], device='cuda:0',\n",
       "        requires_grad=True)]"
      ]
     },
     "execution_count": 61,
     "metadata": {},
     "output_type": "execute_result"
    }
   ],
   "source": [
    "list(second_model.parameters())"
   ]
  },
  {
   "cell_type": "markdown",
   "metadata": {
    "id": "N-_sgXVsbPOU"
   },
   "source": [
    "Now if we try to pass our current image through the network we get an error:"
   ]
  },
  {
   "cell_type": "code",
   "execution_count": 62,
   "metadata": {
    "colab": {
     "base_uri": "https://localhost:8080/",
     "height": 324
    },
    "id": "FAqQgKribVaX",
    "outputId": "107961eb-c1a1-49a6-c6f7-a999ec035318"
   },
   "outputs": [
    {
     "ename": "RuntimeError",
     "evalue": "ignored",
     "output_type": "error",
     "traceback": [
      "\u001b[0;31m---------------------------------------------------------------------------\u001b[0m",
      "\u001b[0;31mRuntimeError\u001b[0m                              Traceback (most recent call last)",
      "\u001b[0;32m<ipython-input-62-3dd5587f259c>\u001b[0m in \u001b[0;36m<module>\u001b[0;34m()\u001b[0m\n\u001b[0;32m----> 1\u001b[0;31m \u001b[0msecond_model\u001b[0m\u001b[0;34m(\u001b[0m\u001b[0mimage_tensor\u001b[0m\u001b[0;34m)\u001b[0m\u001b[0;34m\u001b[0m\u001b[0;34m\u001b[0m\u001b[0m\n\u001b[0m",
      "\u001b[0;32m/usr/local/lib/python3.7/dist-packages/torch/nn/modules/module.py\u001b[0m in \u001b[0;36m_call_impl\u001b[0;34m(self, *input, **kwargs)\u001b[0m\n\u001b[1;32m   1100\u001b[0m         if not (self._backward_hooks or self._forward_hooks or self._forward_pre_hooks or _global_backward_hooks\n\u001b[1;32m   1101\u001b[0m                 or _global_forward_hooks or _global_forward_pre_hooks):\n\u001b[0;32m-> 1102\u001b[0;31m             \u001b[0;32mreturn\u001b[0m \u001b[0mforward_call\u001b[0m\u001b[0;34m(\u001b[0m\u001b[0;34m*\u001b[0m\u001b[0minput\u001b[0m\u001b[0;34m,\u001b[0m \u001b[0;34m**\u001b[0m\u001b[0mkwargs\u001b[0m\u001b[0;34m)\u001b[0m\u001b[0;34m\u001b[0m\u001b[0;34m\u001b[0m\u001b[0m\n\u001b[0m\u001b[1;32m   1103\u001b[0m         \u001b[0;31m# Do not call functions when jit is used\u001b[0m\u001b[0;34m\u001b[0m\u001b[0;34m\u001b[0m\u001b[0;34m\u001b[0m\u001b[0m\n\u001b[1;32m   1104\u001b[0m         \u001b[0mfull_backward_hooks\u001b[0m\u001b[0;34m,\u001b[0m \u001b[0mnon_full_backward_hooks\u001b[0m \u001b[0;34m=\u001b[0m \u001b[0;34m[\u001b[0m\u001b[0;34m]\u001b[0m\u001b[0;34m,\u001b[0m \u001b[0;34m[\u001b[0m\u001b[0;34m]\u001b[0m\u001b[0;34m\u001b[0m\u001b[0;34m\u001b[0m\u001b[0m\n",
      "\u001b[0;32m<ipython-input-44-4a29866e6538>\u001b[0m in \u001b[0;36mforward\u001b[0;34m(self, x)\u001b[0m\n\u001b[1;32m     10\u001b[0m         \u001b[0mx\u001b[0m \u001b[0;34m=\u001b[0m \u001b[0mx\u001b[0m\u001b[0;34m.\u001b[0m\u001b[0mview\u001b[0m\u001b[0;34m(\u001b[0m\u001b[0;34m-\u001b[0m\u001b[0;36m1\u001b[0m\u001b[0;34m)\u001b[0m\u001b[0;34m\u001b[0m\u001b[0;34m\u001b[0m\u001b[0m\n\u001b[1;32m     11\u001b[0m         \u001b[0;31m# define the sequence of operations in the network including e.g. activations\u001b[0m\u001b[0;34m\u001b[0m\u001b[0;34m\u001b[0m\u001b[0;34m\u001b[0m\u001b[0m\n\u001b[0;32m---> 12\u001b[0;31m         \u001b[0mx\u001b[0m \u001b[0;34m=\u001b[0m \u001b[0mF\u001b[0m\u001b[0;34m.\u001b[0m\u001b[0mrelu\u001b[0m\u001b[0;34m(\u001b[0m\u001b[0mself\u001b[0m\u001b[0;34m.\u001b[0m\u001b[0mlayer1\u001b[0m\u001b[0;34m(\u001b[0m\u001b[0mx\u001b[0m\u001b[0;34m)\u001b[0m\u001b[0;34m)\u001b[0m\u001b[0;34m\u001b[0m\u001b[0;34m\u001b[0m\u001b[0m\n\u001b[0m\u001b[1;32m     13\u001b[0m \u001b[0;34m\u001b[0m\u001b[0m\n\u001b[1;32m     14\u001b[0m         \u001b[0;32mreturn\u001b[0m \u001b[0mx\u001b[0m\u001b[0;34m\u001b[0m\u001b[0;34m\u001b[0m\u001b[0m\n",
      "\u001b[0;32m/usr/local/lib/python3.7/dist-packages/torch/nn/modules/module.py\u001b[0m in \u001b[0;36m_call_impl\u001b[0;34m(self, *input, **kwargs)\u001b[0m\n\u001b[1;32m   1100\u001b[0m         if not (self._backward_hooks or self._forward_hooks or self._forward_pre_hooks or _global_backward_hooks\n\u001b[1;32m   1101\u001b[0m                 or _global_forward_hooks or _global_forward_pre_hooks):\n\u001b[0;32m-> 1102\u001b[0;31m             \u001b[0;32mreturn\u001b[0m \u001b[0mforward_call\u001b[0m\u001b[0;34m(\u001b[0m\u001b[0;34m*\u001b[0m\u001b[0minput\u001b[0m\u001b[0;34m,\u001b[0m \u001b[0;34m**\u001b[0m\u001b[0mkwargs\u001b[0m\u001b[0;34m)\u001b[0m\u001b[0;34m\u001b[0m\u001b[0;34m\u001b[0m\u001b[0m\n\u001b[0m\u001b[1;32m   1103\u001b[0m         \u001b[0;31m# Do not call functions when jit is used\u001b[0m\u001b[0;34m\u001b[0m\u001b[0;34m\u001b[0m\u001b[0;34m\u001b[0m\u001b[0m\n\u001b[1;32m   1104\u001b[0m         \u001b[0mfull_backward_hooks\u001b[0m\u001b[0;34m,\u001b[0m \u001b[0mnon_full_backward_hooks\u001b[0m \u001b[0;34m=\u001b[0m \u001b[0;34m[\u001b[0m\u001b[0;34m]\u001b[0m\u001b[0;34m,\u001b[0m \u001b[0;34m[\u001b[0m\u001b[0;34m]\u001b[0m\u001b[0;34m\u001b[0m\u001b[0;34m\u001b[0m\u001b[0m\n",
      "\u001b[0;32m/usr/local/lib/python3.7/dist-packages/torch/nn/modules/linear.py\u001b[0m in \u001b[0;36mforward\u001b[0;34m(self, input)\u001b[0m\n\u001b[1;32m    101\u001b[0m \u001b[0;34m\u001b[0m\u001b[0m\n\u001b[1;32m    102\u001b[0m     \u001b[0;32mdef\u001b[0m \u001b[0mforward\u001b[0m\u001b[0;34m(\u001b[0m\u001b[0mself\u001b[0m\u001b[0;34m,\u001b[0m \u001b[0minput\u001b[0m\u001b[0;34m:\u001b[0m \u001b[0mTensor\u001b[0m\u001b[0;34m)\u001b[0m \u001b[0;34m->\u001b[0m \u001b[0mTensor\u001b[0m\u001b[0;34m:\u001b[0m\u001b[0;34m\u001b[0m\u001b[0;34m\u001b[0m\u001b[0m\n\u001b[0;32m--> 103\u001b[0;31m         \u001b[0;32mreturn\u001b[0m \u001b[0mF\u001b[0m\u001b[0;34m.\u001b[0m\u001b[0mlinear\u001b[0m\u001b[0;34m(\u001b[0m\u001b[0minput\u001b[0m\u001b[0;34m,\u001b[0m \u001b[0mself\u001b[0m\u001b[0;34m.\u001b[0m\u001b[0mweight\u001b[0m\u001b[0;34m,\u001b[0m \u001b[0mself\u001b[0m\u001b[0;34m.\u001b[0m\u001b[0mbias\u001b[0m\u001b[0;34m)\u001b[0m\u001b[0;34m\u001b[0m\u001b[0;34m\u001b[0m\u001b[0m\n\u001b[0m\u001b[1;32m    104\u001b[0m \u001b[0;34m\u001b[0m\u001b[0m\n\u001b[1;32m    105\u001b[0m     \u001b[0;32mdef\u001b[0m \u001b[0mextra_repr\u001b[0m\u001b[0;34m(\u001b[0m\u001b[0mself\u001b[0m\u001b[0;34m)\u001b[0m \u001b[0;34m->\u001b[0m \u001b[0mstr\u001b[0m\u001b[0;34m:\u001b[0m\u001b[0;34m\u001b[0m\u001b[0;34m\u001b[0m\u001b[0m\n",
      "\u001b[0;32m/usr/local/lib/python3.7/dist-packages/torch/nn/functional.py\u001b[0m in \u001b[0;36mlinear\u001b[0;34m(input, weight, bias)\u001b[0m\n\u001b[1;32m   1846\u001b[0m     \u001b[0;32mif\u001b[0m \u001b[0mhas_torch_function_variadic\u001b[0m\u001b[0;34m(\u001b[0m\u001b[0minput\u001b[0m\u001b[0;34m,\u001b[0m \u001b[0mweight\u001b[0m\u001b[0;34m,\u001b[0m \u001b[0mbias\u001b[0m\u001b[0;34m)\u001b[0m\u001b[0;34m:\u001b[0m\u001b[0;34m\u001b[0m\u001b[0;34m\u001b[0m\u001b[0m\n\u001b[1;32m   1847\u001b[0m         \u001b[0;32mreturn\u001b[0m \u001b[0mhandle_torch_function\u001b[0m\u001b[0;34m(\u001b[0m\u001b[0mlinear\u001b[0m\u001b[0;34m,\u001b[0m \u001b[0;34m(\u001b[0m\u001b[0minput\u001b[0m\u001b[0;34m,\u001b[0m \u001b[0mweight\u001b[0m\u001b[0;34m,\u001b[0m \u001b[0mbias\u001b[0m\u001b[0;34m)\u001b[0m\u001b[0;34m,\u001b[0m \u001b[0minput\u001b[0m\u001b[0;34m,\u001b[0m \u001b[0mweight\u001b[0m\u001b[0;34m,\u001b[0m \u001b[0mbias\u001b[0m\u001b[0;34m=\u001b[0m\u001b[0mbias\u001b[0m\u001b[0;34m)\u001b[0m\u001b[0;34m\u001b[0m\u001b[0;34m\u001b[0m\u001b[0m\n\u001b[0;32m-> 1848\u001b[0;31m     \u001b[0;32mreturn\u001b[0m \u001b[0mtorch\u001b[0m\u001b[0;34m.\u001b[0m\u001b[0m_C\u001b[0m\u001b[0;34m.\u001b[0m\u001b[0m_nn\u001b[0m\u001b[0;34m.\u001b[0m\u001b[0mlinear\u001b[0m\u001b[0;34m(\u001b[0m\u001b[0minput\u001b[0m\u001b[0;34m,\u001b[0m \u001b[0mweight\u001b[0m\u001b[0;34m,\u001b[0m \u001b[0mbias\u001b[0m\u001b[0;34m)\u001b[0m\u001b[0;34m\u001b[0m\u001b[0;34m\u001b[0m\u001b[0m\n\u001b[0m\u001b[1;32m   1849\u001b[0m \u001b[0;34m\u001b[0m\u001b[0m\n\u001b[1;32m   1850\u001b[0m \u001b[0;34m\u001b[0m\u001b[0m\n",
      "\u001b[0;31mRuntimeError\u001b[0m: Expected all tensors to be on the same device, but found at least two devices, cpu and cuda:0! (when checking argument for argument mat2 in method wrapper_mm)"
     ]
    }
   ],
   "source": [
    "second_model(image)"
   ]
  },
  {
   "cell_type": "markdown",
   "metadata": {
    "id": "fM379mcZYDRc"
   },
   "source": [
    "The error message is quite explicit: you then need also to move the data, both for training and inference to the GPU:"
   ]
  },
  {
   "cell_type": "code",
   "execution_count": 63,
   "metadata": {
    "colab": {
     "base_uri": "https://localhost:8080/"
    },
    "id": "prB7rQBoYDRc",
    "outputId": "1e3c9bf7-54f3-4378-8551-b3bbb982bba9"
   },
   "outputs": [
    {
     "data": {
      "text/plain": [
       "tensor([[0., 0., 0.,  ..., 0., 0., 0.],\n",
       "        [0., 0., 0.,  ..., 0., 0., 0.],\n",
       "        [0., 0., 0.,  ..., 0., 0., 0.],\n",
       "        ...,\n",
       "        [0., 0., 0.,  ..., 0., 0., 0.],\n",
       "        [0., 0., 0.,  ..., 0., 0., 0.],\n",
       "        [0., 0., 0.,  ..., 0., 0., 0.]], device='cuda:0')"
      ]
     },
     "execution_count": 63,
     "metadata": {},
     "output_type": "execute_result"
    }
   ],
   "source": [
    "image.to(dev)"
   ]
  },
  {
   "cell_type": "code",
   "execution_count": 64,
   "metadata": {
    "id": "sGgYqbWpYDRc"
   },
   "outputs": [],
   "source": [
    "image = image.to(dev)"
   ]
  },
  {
   "cell_type": "code",
   "execution_count": 65,
   "metadata": {
    "id": "_50Ib-_xYDRc"
   },
   "outputs": [],
   "source": [
    "output = second_model(image)"
   ]
  },
  {
   "cell_type": "code",
   "execution_count": 66,
   "metadata": {
    "colab": {
     "base_uri": "https://localhost:8080/"
    },
    "id": "dDX-VKv9bqrj",
    "outputId": "4324a258-07a2-4eaf-9830-626b43738410"
   },
   "outputs": [
    {
     "data": {
      "text/plain": [
       "tensor([ 0.0000,  0.0000,  0.0000,  0.0000,  4.2747, 12.7591,  0.0000,  0.0000,\n",
       "         3.2894,  3.1473,  0.0000,  0.0000,  0.0000,  0.0000,  0.0000,  0.0000,\n",
       "        14.3413,  7.2331,  0.0000,  0.0000], device='cuda:0',\n",
       "       grad_fn=<ReluBackward0>)"
      ]
     },
     "execution_count": 66,
     "metadata": {},
     "output_type": "execute_result"
    }
   ],
   "source": [
    "output"
   ]
  },
  {
   "cell_type": "markdown",
   "metadata": {
    "id": "Oor9GgLbcKXX"
   },
   "source": [
    "The output sits on the GPU and is part of the gradient calcualtion, so if you want to further use it, you will have to pull it from the GPU **and** detach it from gradient calculation:"
   ]
  },
  {
   "cell_type": "code",
   "execution_count": 67,
   "metadata": {
    "colab": {
     "base_uri": "https://localhost:8080/"
    },
    "id": "pY-wZED3cNBd",
    "outputId": "68e430e0-b16f-4b1f-f2ff-0358eef59503"
   },
   "outputs": [
    {
     "data": {
      "text/plain": [
       "array([ 0.       ,  0.       ,  0.       ,  0.       ,  4.2747416,\n",
       "       12.759116 ,  0.       ,  0.       ,  3.2893572,  3.1472843,\n",
       "        0.       ,  0.       ,  0.       ,  0.       ,  0.       ,\n",
       "        0.       , 14.341337 ,  7.2330832,  0.       ,  0.       ],\n",
       "      dtype=float32)"
      ]
     },
     "execution_count": 67,
     "metadata": {},
     "output_type": "execute_result"
    }
   ],
   "source": [
    "output.detach().cpu().numpy()"
   ]
  },
  {
   "cell_type": "markdown",
   "metadata": {
    "id": "fgj-fk6pOqux"
   },
   "source": [
    "## Exercises\n",
    "\n",
    "1. Create a network with 4 successive linear layers of size 20,40 and 100 and 2, and ReLU activation after the three first layers. It takes a 2D input.\n",
    "2. With ```imageio``` import the image in ```.../data/woody_baille.JPG```\n",
    "3. Instantiate your model with the appropriate size\n",
    "4. Run the image through the network and turn the output into a numpy array\n"
   ]
  },
  {
   "cell_type": "code",
   "execution_count": null,
   "metadata": {
    "id": "ioXlvZY3Oqux"
   },
   "outputs": [],
   "source": []
  }
 ],
 "metadata": {
  "accelerator": "GPU",
  "colab": {
   "collapsed_sections": [
    "hlCrSWAFYDRZ"
   ],
   "name": "Simple_NN.ipynb",
   "provenance": []
  },
  "kernelspec": {
   "display_name": "Python 3 (ipykernel)",
   "language": "python",
   "name": "python3"
  },
  "language_info": {
   "codemirror_mode": {
    "name": "ipython",
    "version": 3
   },
   "file_extension": ".py",
   "mimetype": "text/x-python",
   "name": "python",
   "nbconvert_exporter": "python",
   "pygments_lexer": "ipython3",
   "version": "3.9.15"
  },
  "toc": {
   "base_numbering": 1,
   "nav_menu": {},
   "number_sections": false,
   "sideBar": true,
   "skip_h1_title": false,
   "title_cell": "Table of Contents",
   "title_sidebar": "Contents",
   "toc_cell": false,
   "toc_position": {},
   "toc_section_display": true,
   "toc_window_display": true
  },
  "varInspector": {
   "cols": {
    "lenName": 16,
    "lenType": 16,
    "lenVar": 40
   },
   "kernels_config": {
    "python": {
     "delete_cmd_postfix": "",
     "delete_cmd_prefix": "del ",
     "library": "var_list.py",
     "varRefreshCmd": "print(var_dic_list())"
    },
    "r": {
     "delete_cmd_postfix": ") ",
     "delete_cmd_prefix": "rm(",
     "library": "var_list.r",
     "varRefreshCmd": "cat(var_dic_list()) "
    }
   },
   "types_to_exclude": [
    "module",
    "function",
    "builtin_function_or_method",
    "instance",
    "_Feature"
   ],
   "window_display": false
  }
 },
 "nbformat": 4,
 "nbformat_minor": 4
}
