{
 "cells": [
  {
   "cell_type": "markdown",
   "id": "74a038fe-68b1-4986-95bb-67204646f40b",
   "metadata": {},
   "source": [
    "# Solution: Simple NN"
   ]
  },
  {
   "cell_type": "code",
   "execution_count": 20,
   "id": "52302bb0-b1c7-4ccc-a65b-b69155c64b95",
   "metadata": {},
   "outputs": [],
   "source": [
    "import torch\n",
    "from torch import nn\n",
    "from torch.nn import functional as F\n",
    "import imageio.v3 as iio\n",
    "import numpy as np"
   ]
  },
  {
   "cell_type": "code",
   "execution_count": 17,
   "id": "247fa14e-b5be-48c9-8bbe-e1f494580cd3",
   "metadata": {},
   "outputs": [],
   "source": [
    "class Mynetwork(nn.Module):\n",
    "    def __init__(self, myparameter1):\n",
    "        super(Mynetwork, self).__init__()\n",
    "        \n",
    "        # define e.g. layers here e.g.\n",
    "        self.layer1 = nn.Linear(myparameter1, 20)\n",
    "        self.layer2 = nn.Linear(20, 40)\n",
    "        self.layer3 = nn.Linear(40, 100)\n",
    "        self.layer4 = nn.Linear(100, 2)\n",
    "        \n",
    "\n",
    "    def forward(self, x):\n",
    "        \n",
    "        x = x.flatten(start_dim=1)\n",
    "        # define the sequence of operations in the network including e.g. activations\n",
    "        x = F.relu(self.layer1(x))\n",
    "        x = F.relu(self.layer2(x))\n",
    "        x = F.relu(self.layer3(x))\n",
    "        x = self.layer4(x)\n",
    "        \n",
    "        return x"
   ]
  },
  {
   "cell_type": "code",
   "execution_count": 8,
   "id": "f09977b8-235d-4398-90a9-3a389fae0ba6",
   "metadata": {},
   "outputs": [],
   "source": [
    "image_stack = iio.imread('https://github.com/guiwitz/microfilm/raw/master/demodata/coli_nucl_ori_ter.tif')"
   ]
  },
  {
   "cell_type": "code",
   "execution_count": 9,
   "id": "82c8064d-af6f-4797-aab1-83176919cef3",
   "metadata": {},
   "outputs": [],
   "source": [
    "image = image_stack[0,0]"
   ]
  },
  {
   "cell_type": "code",
   "execution_count": null,
   "id": "0a946e06-9fec-4d1f-b6cc-4148882a900c",
   "metadata": {},
   "outputs": [],
   "source": []
  },
  {
   "cell_type": "code",
   "execution_count": 13,
   "id": "2abd468a-d50d-4552-8da9-242bf2b44109",
   "metadata": {},
   "outputs": [],
   "source": [
    "image_tensor = torch.from_numpy(image.astype(np.float32))"
   ]
  },
  {
   "cell_type": "code",
   "execution_count": 14,
   "id": "64731708-9f05-464e-9da5-98e86ed6d0ac",
   "metadata": {},
   "outputs": [
    {
     "data": {
      "text/plain": [
       "torch.Size([220, 169])"
      ]
     },
     "execution_count": 14,
     "metadata": {},
     "output_type": "execute_result"
    }
   ],
   "source": [
    "image_tensor.shape"
   ]
  },
  {
   "cell_type": "code",
   "execution_count": 18,
   "id": "2f6a34fc-07dd-4081-84b2-0783a85697d3",
   "metadata": {},
   "outputs": [],
   "source": [
    "model = Mynetwork(image.shape[0]*image.shape[1])"
   ]
  },
  {
   "cell_type": "code",
   "execution_count": 23,
   "id": "7e3d1ceb-4024-4321-bdcb-4285b3e3ce06",
   "metadata": {},
   "outputs": [],
   "source": [
    "image_tensor = image_tensor.unsqueeze(0)"
   ]
  },
  {
   "cell_type": "code",
   "execution_count": 24,
   "id": "6b932da7-eefd-4586-875e-534b5fc63700",
   "metadata": {},
   "outputs": [
    {
     "data": {
      "text/plain": [
       "torch.Size([1, 220, 169])"
      ]
     },
     "execution_count": 24,
     "metadata": {},
     "output_type": "execute_result"
    }
   ],
   "source": [
    "image_tensor.shape"
   ]
  },
  {
   "cell_type": "code",
   "execution_count": 25,
   "id": "07d97ed8-3375-489d-a741-6dcb7c084396",
   "metadata": {},
   "outputs": [],
   "source": [
    "output = model(image_tensor)"
   ]
  },
  {
   "cell_type": "code",
   "execution_count": 26,
   "id": "f7a8c1d7-0532-49a4-bc58-0fb9a5e1e9e8",
   "metadata": {},
   "outputs": [
    {
     "data": {
      "text/plain": [
       "torch.Size([1, 2])"
      ]
     },
     "execution_count": 26,
     "metadata": {},
     "output_type": "execute_result"
    }
   ],
   "source": [
    "output.shape"
   ]
  },
  {
   "cell_type": "code",
   "execution_count": 28,
   "id": "5454c88d-c6b9-4d2d-9bc4-09269f74ba69",
   "metadata": {},
   "outputs": [
    {
     "ename": "RuntimeError",
     "evalue": "Can't call numpy() on Tensor that requires grad. Use tensor.detach().numpy() instead.",
     "output_type": "error",
     "traceback": [
      "\u001b[0;31m---------------------------------------------------------------------------\u001b[0m",
      "\u001b[0;31mRuntimeError\u001b[0m                              Traceback (most recent call last)",
      "Cell \u001b[0;32mIn[28], line 1\u001b[0m\n\u001b[0;32m----> 1\u001b[0m \u001b[43moutput\u001b[49m\u001b[38;5;241;43m.\u001b[39;49m\u001b[43mnumpy\u001b[49m\u001b[43m(\u001b[49m\u001b[43m)\u001b[49m\n",
      "\u001b[0;31mRuntimeError\u001b[0m: Can't call numpy() on Tensor that requires grad. Use tensor.detach().numpy() instead."
     ]
    }
   ],
   "source": [
    "output.numpy()"
   ]
  },
  {
   "cell_type": "code",
   "execution_count": 29,
   "id": "826eda79-268e-40c6-8fbd-4fc62c5bdc8b",
   "metadata": {},
   "outputs": [
    {
     "data": {
      "text/plain": [
       "array([[ 2.8924108, -0.6478064]], dtype=float32)"
      ]
     },
     "execution_count": 29,
     "metadata": {},
     "output_type": "execute_result"
    }
   ],
   "source": [
    "output.detach().numpy()"
   ]
  },
  {
   "cell_type": "code",
   "execution_count": 32,
   "id": "a1746d4a-d610-469e-ad1b-92c903f58665",
   "metadata": {},
   "outputs": [
    {
     "data": {
      "text/plain": [
       "(3, 220, 169)"
      ]
     },
     "execution_count": 32,
     "metadata": {},
     "output_type": "execute_result"
    }
   ],
   "source": [
    "image_batch = image_stack[0, 0:3,:,:]\n",
    "image_batch.shape"
   ]
  },
  {
   "cell_type": "code",
   "execution_count": 37,
   "id": "098fe73c-2ddc-4aef-af26-fc20556106b5",
   "metadata": {},
   "outputs": [],
   "source": [
    "image_batch_tensor = torch.from_numpy(image_batch.astype(np.float32))"
   ]
  },
  {
   "cell_type": "code",
   "execution_count": 38,
   "id": "04ac2e70-52b7-4deb-b93f-41cf9a064303",
   "metadata": {},
   "outputs": [],
   "source": [
    "image_batch_tensor = image_batch_tensor.unsqueeze(dim=1)"
   ]
  },
  {
   "cell_type": "code",
   "execution_count": 39,
   "id": "d33ad42f-254c-4b4b-81c9-ddb3c2a738d1",
   "metadata": {},
   "outputs": [
    {
     "data": {
      "text/plain": [
       "torch.Size([3, 1, 220, 169])"
      ]
     },
     "execution_count": 39,
     "metadata": {},
     "output_type": "execute_result"
    }
   ],
   "source": [
    "image_batch_tensor.shape"
   ]
  },
  {
   "cell_type": "code",
   "execution_count": 40,
   "id": "84e62abf-2821-4758-b69d-fe200731f999",
   "metadata": {},
   "outputs": [],
   "source": [
    "output_batch = model(image_batch_tensor)"
   ]
  },
  {
   "cell_type": "code",
   "execution_count": 41,
   "id": "2d921033-5295-42d7-a13e-5221b3f1e890",
   "metadata": {},
   "outputs": [
    {
     "data": {
      "text/plain": [
       "torch.Size([3, 2])"
      ]
     },
     "execution_count": 41,
     "metadata": {},
     "output_type": "execute_result"
    }
   ],
   "source": [
    "output_batch.shape"
   ]
  },
  {
   "cell_type": "code",
   "execution_count": null,
   "id": "2bd68379-7b26-49e3-acb5-2be9e0911e73",
   "metadata": {},
   "outputs": [],
   "source": []
  }
 ],
 "metadata": {
  "kernelspec": {
   "display_name": "Python 3 (ipykernel)",
   "language": "python",
   "name": "python3"
  },
  "language_info": {
   "codemirror_mode": {
    "name": "ipython",
    "version": 3
   },
   "file_extension": ".py",
   "mimetype": "text/x-python",
   "name": "python",
   "nbconvert_exporter": "python",
   "pygments_lexer": "ipython3",
   "version": "3.9.15"
  }
 },
 "nbformat": 4,
 "nbformat_minor": 5
}
