{
 "cells": [
  {
   "cell_type": "markdown",
   "id": "8e78317d-5074-45d0-bc06-0efc35a0aac2",
   "metadata": {},
   "source": [
    "# Solution: Data handling"
   ]
  },
  {
   "cell_type": "code",
   "execution_count": 5,
   "id": "b3d4e404-2129-4e59-9d99-1c3a8c2ae106",
   "metadata": {},
   "outputs": [],
   "source": [
    "from torchvision import transforms\n",
    "import torch\n",
    "import numpy as np\n",
    "from torch.utils.data import DataLoader, Dataset\n",
    "from pathlib import Path"
   ]
  },
  {
   "cell_type": "code",
   "execution_count": 10,
   "id": "3a497c9a-a8d9-47b2-999e-ebabf1be47cd",
   "metadata": {},
   "outputs": [],
   "source": [
    "transformations = transforms.Compose([\n",
    "    transforms.ToTensor(),\n",
    "])\n",
    "\n",
    "num_data = 10000\n",
    "batch_size = 32\n",
    "\n",
    "folders = list(Path('../data/quickdraw/').glob('*npy'))"
   ]
  },
  {
   "cell_type": "code",
   "execution_count": 11,
   "id": "27e7f0c2-d0fa-4fc0-a716-dcd07ad5a218",
   "metadata": {},
   "outputs": [],
   "source": [
    "data = np.concatenate([np.load(f)[0:num_data] for f in folders]) #check everything works with tiny set\n",
    "labels = np.concatenate([[ind for i in range(num_data)] for ind, f in enumerate(folders)]) #check everything works with tiny set"
   ]
  },
  {
   "cell_type": "code",
   "execution_count": 13,
   "id": "4e0ceb21-db47-4256-acbf-6599c72d209c",
   "metadata": {},
   "outputs": [],
   "source": [
    "class Drawings(Dataset):\n",
    "    \"\"\"Dataset class for quickdraw. Inputs are arrays of linearized \n",
    "    images and arrays of labels.\"\"\"\n",
    "    def __init__(self, data, targets, transform=None):\n",
    "        self.data = data\n",
    "        self.targets = torch.LongTensor(targets)\n",
    "        self.transform = transform\n",
    "\n",
    "    def __getitem__(self, index):\n",
    "        x = self.data[index]\n",
    "        x = np.reshape(x, (28,28))\n",
    "        y = self.targets[index]\n",
    "\n",
    "        if self.transform:\n",
    "            x = self.transform(x)\n",
    "\n",
    "        return x, y\n",
    "\n",
    "    def __len__(self):\n",
    "        return len(self.targets)"
   ]
  },
  {
   "cell_type": "code",
   "execution_count": 14,
   "id": "0b567a97-ed9c-446f-af2b-cfe9c0d65046",
   "metadata": {},
   "outputs": [],
   "source": [
    "drawing_data = Drawings(data, labels, transformations)"
   ]
  },
  {
   "cell_type": "code",
   "execution_count": 20,
   "id": "11242aa8-823b-4218-a622-a6ddf952162c",
   "metadata": {},
   "outputs": [],
   "source": [
    "test_size = int(len(drawing_data)*0.8)\n",
    "valid_size = len(drawing_data) - test_size"
   ]
  },
  {
   "cell_type": "code",
   "execution_count": 21,
   "id": "b5af784a-7496-4a87-9462-55d4d46e0491",
   "metadata": {},
   "outputs": [],
   "source": [
    "from torch.utils.data import random_split\n",
    "\n",
    "train_data, valid_data = random_split(drawing_data, [test_size, valid_size])"
   ]
  },
  {
   "cell_type": "code",
   "execution_count": 26,
   "id": "32233b48-74b9-4fdc-b25f-5517233824d5",
   "metadata": {},
   "outputs": [],
   "source": [
    "train_loader = DataLoader(train_data,\n",
    "                          shuffle=True, batch_size=batch_size)\n",
    "valid_loader = DataLoader(valid_data,\n",
    "                          shuffle=True, batch_size=batch_size)"
   ]
  },
  {
   "cell_type": "code",
   "execution_count": 27,
   "id": "946b9294-6a03-4e23-9a70-fbf81432c4f5",
   "metadata": {},
   "outputs": [],
   "source": [
    "im, lab = next(iter(train_loader))"
   ]
  },
  {
   "cell_type": "code",
   "execution_count": 28,
   "id": "8036cb30-d4fa-4eb0-8c7e-aeb6dfc144c5",
   "metadata": {},
   "outputs": [],
   "source": [
    "im1, lab1 = next(iter(valid_loader))"
   ]
  },
  {
   "cell_type": "code",
   "execution_count": 29,
   "id": "1aea0a94-666a-47fb-95e5-2de1c0e209f5",
   "metadata": {},
   "outputs": [],
   "source": [
    "import matplotlib.pyplot as plt"
   ]
  },
  {
   "cell_type": "code",
   "execution_count": 30,
   "id": "a503b5cd-5ce8-493b-b634-f728df83fd09",
   "metadata": {},
   "outputs": [
    {
     "data": {
      "text/plain": [
       "torch.Size([32, 1, 28, 28])"
      ]
     },
     "execution_count": 30,
     "metadata": {},
     "output_type": "execute_result"
    }
   ],
   "source": [
    "im.shape"
   ]
  },
  {
   "cell_type": "code",
   "execution_count": 43,
   "id": "1310c447-505d-4f2a-975e-03b9e17288bc",
   "metadata": {},
   "outputs": [
    {
     "data": {
      "text/plain": [
       "<matplotlib.image.AxesImage at 0x147ae8550>"
      ]
     },
     "execution_count": 43,
     "metadata": {},
     "output_type": "execute_result"
    },
    {
     "data": {
      "image/png": "[encoded data removed]",
      "text/plain": [
       "<Figure size 640x480 with 1 Axes>"
      ]
     },
     "metadata": {},
     "output_type": "display_data"
    }
   ],
   "source": [
    "plt.imshow(im1[6,0])"
   ]
  },
  {
   "cell_type": "code",
   "execution_count": null,
   "id": "9100ecd2-5f02-4028-9f99-42b21ee62fac",
   "metadata": {},
   "outputs": [],
   "source": []
  }
 ],
 "metadata": {
  "kernelspec": {
   "display_name": "Python 3 (ipykernel)",
   "language": "python",
   "name": "python3"
  },
  "language_info": {
   "codemirror_mode": {
    "name": "ipython",
    "version": 3
   },
   "file_extension": ".py",
   "mimetype": "text/x-python",
   "name": "python",
   "nbconvert_exporter": "python",
   "pygments_lexer": "ipython3",
   "version": "3.9.15"
  }
 },
 "nbformat": 4,
 "nbformat_minor": 5
}
